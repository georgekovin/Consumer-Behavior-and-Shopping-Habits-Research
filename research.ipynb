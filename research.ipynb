{
 "cells": [
  {
   "cell_type": "markdown",
   "metadata": {},
   "source": [
    "# <center> **Consumer Behavior and Shopping Habits Research**"
   ]
  },
  {
   "cell_type": "markdown",
   "metadata": {},
   "source": [
    "---"
   ]
  },
  {
   "cell_type": "markdown",
   "metadata": {},
   "source": [
    "# <center> *Let's begin!*"
   ]
  },
  {
   "cell_type": "markdown",
   "metadata": {},
   "source": [
    "## Import libraries"
   ]
  },
  {
   "cell_type": "code",
   "execution_count": 83,
   "metadata": {},
   "outputs": [],
   "source": [
    "import numpy as np\n",
    "import pandas as pd\n",
    "\n",
    "import functions as funcs\n",
    "\n",
    "import matplotlib.pyplot as plt\n",
    "import seaborn as sb \n",
    "\n",
    "from sklearn import preprocessing as pp\n",
    "from sklearn import model_selection as ms \n",
    "from sklearn import linear_model as lm\n",
    "from sklearn import tree as t \n",
    "from sklearn import ensemble as ens \n",
    "from sklearn import cluster as c \n",
    "from sklearn import metrics as m\n",
    "from sklearn import pipeline as pl\n",
    "from sklearn import mixture as mx \n",
    "from sklearn import multiclass as mc\n",
    "\n",
    "import xgboost as xgb  \n",
    "\n",
    "plt.style.use('bmh')\n",
    "\n",
    "import warnings\n",
    "warnings.filterwarnings('ignore')\n",
    "\n",
    "import pickle\n",
    "\n",
    "RS = 95\n",
    "pallete = 'muted'"
   ]
  },
  {
   "cell_type": "markdown",
   "metadata": {},
   "source": [
    "## Read Data"
   ]
  },
  {
   "cell_type": "code",
   "execution_count": 84,
   "metadata": {},
   "outputs": [
    {
     "data": {
      "text/html": [
       "<div>\n",
       "<style scoped>\n",
       "    .dataframe tbody tr th:only-of-type {\n",
       "        vertical-align: middle;\n",
       "    }\n",
       "\n",
       "    .dataframe tbody tr th {\n",
       "        vertical-align: top;\n",
       "    }\n",
       "\n",
       "    .dataframe thead th {\n",
       "        text-align: right;\n",
       "    }\n",
       "</style>\n",
       "<table border=\"1\" class=\"dataframe\">\n",
       "  <thead>\n",
       "    <tr style=\"text-align: right;\">\n",
       "      <th></th>\n",
       "      <th>Customer ID</th>\n",
       "      <th>Age</th>\n",
       "      <th>Gender</th>\n",
       "      <th>Item Purchased</th>\n",
       "      <th>Category</th>\n",
       "      <th>Purchase Amount (USD)</th>\n",
       "      <th>Location</th>\n",
       "      <th>Size</th>\n",
       "      <th>Color</th>\n",
       "      <th>Season</th>\n",
       "      <th>Review Rating</th>\n",
       "      <th>Subscription Status</th>\n",
       "      <th>Shipping Type</th>\n",
       "      <th>Discount Applied</th>\n",
       "      <th>Promo Code Used</th>\n",
       "      <th>Previous Purchases</th>\n",
       "      <th>Payment Method</th>\n",
       "      <th>Frequency of Purchases</th>\n",
       "    </tr>\n",
       "  </thead>\n",
       "  <tbody>\n",
       "    <tr>\n",
       "      <th>0</th>\n",
       "      <td>1</td>\n",
       "      <td>55</td>\n",
       "      <td>Male</td>\n",
       "      <td>Blouse</td>\n",
       "      <td>Clothing</td>\n",
       "      <td>53</td>\n",
       "      <td>Kentucky</td>\n",
       "      <td>L</td>\n",
       "      <td>Gray</td>\n",
       "      <td>Winter</td>\n",
       "      <td>3.1</td>\n",
       "      <td>Yes</td>\n",
       "      <td>Express</td>\n",
       "      <td>Yes</td>\n",
       "      <td>Yes</td>\n",
       "      <td>14</td>\n",
       "      <td>Venmo</td>\n",
       "      <td>Fortnightly</td>\n",
       "    </tr>\n",
       "    <tr>\n",
       "      <th>1</th>\n",
       "      <td>2</td>\n",
       "      <td>19</td>\n",
       "      <td>Male</td>\n",
       "      <td>Sweater</td>\n",
       "      <td>Clothing</td>\n",
       "      <td>64</td>\n",
       "      <td>Maine</td>\n",
       "      <td>L</td>\n",
       "      <td>Maroon</td>\n",
       "      <td>Winter</td>\n",
       "      <td>3.1</td>\n",
       "      <td>Yes</td>\n",
       "      <td>Express</td>\n",
       "      <td>Yes</td>\n",
       "      <td>Yes</td>\n",
       "      <td>2</td>\n",
       "      <td>Cash</td>\n",
       "      <td>Fortnightly</td>\n",
       "    </tr>\n",
       "    <tr>\n",
       "      <th>2</th>\n",
       "      <td>3</td>\n",
       "      <td>50</td>\n",
       "      <td>Male</td>\n",
       "      <td>Jeans</td>\n",
       "      <td>Clothing</td>\n",
       "      <td>73</td>\n",
       "      <td>Massachusetts</td>\n",
       "      <td>S</td>\n",
       "      <td>Maroon</td>\n",
       "      <td>Spring</td>\n",
       "      <td>3.1</td>\n",
       "      <td>Yes</td>\n",
       "      <td>Free Shipping</td>\n",
       "      <td>Yes</td>\n",
       "      <td>Yes</td>\n",
       "      <td>23</td>\n",
       "      <td>Credit Card</td>\n",
       "      <td>Weekly</td>\n",
       "    </tr>\n",
       "    <tr>\n",
       "      <th>3</th>\n",
       "      <td>4</td>\n",
       "      <td>21</td>\n",
       "      <td>Male</td>\n",
       "      <td>Sandals</td>\n",
       "      <td>Footwear</td>\n",
       "      <td>90</td>\n",
       "      <td>Rhode Island</td>\n",
       "      <td>M</td>\n",
       "      <td>Maroon</td>\n",
       "      <td>Spring</td>\n",
       "      <td>3.5</td>\n",
       "      <td>Yes</td>\n",
       "      <td>Next Day Air</td>\n",
       "      <td>Yes</td>\n",
       "      <td>Yes</td>\n",
       "      <td>49</td>\n",
       "      <td>PayPal</td>\n",
       "      <td>Weekly</td>\n",
       "    </tr>\n",
       "    <tr>\n",
       "      <th>4</th>\n",
       "      <td>5</td>\n",
       "      <td>45</td>\n",
       "      <td>Male</td>\n",
       "      <td>Blouse</td>\n",
       "      <td>Clothing</td>\n",
       "      <td>49</td>\n",
       "      <td>Oregon</td>\n",
       "      <td>M</td>\n",
       "      <td>Turquoise</td>\n",
       "      <td>Spring</td>\n",
       "      <td>2.7</td>\n",
       "      <td>Yes</td>\n",
       "      <td>Free Shipping</td>\n",
       "      <td>Yes</td>\n",
       "      <td>Yes</td>\n",
       "      <td>31</td>\n",
       "      <td>PayPal</td>\n",
       "      <td>Annually</td>\n",
       "    </tr>\n",
       "    <tr>\n",
       "      <th>...</th>\n",
       "      <td>...</td>\n",
       "      <td>...</td>\n",
       "      <td>...</td>\n",
       "      <td>...</td>\n",
       "      <td>...</td>\n",
       "      <td>...</td>\n",
       "      <td>...</td>\n",
       "      <td>...</td>\n",
       "      <td>...</td>\n",
       "      <td>...</td>\n",
       "      <td>...</td>\n",
       "      <td>...</td>\n",
       "      <td>...</td>\n",
       "      <td>...</td>\n",
       "      <td>...</td>\n",
       "      <td>...</td>\n",
       "      <td>...</td>\n",
       "      <td>...</td>\n",
       "    </tr>\n",
       "    <tr>\n",
       "      <th>3895</th>\n",
       "      <td>3896</td>\n",
       "      <td>40</td>\n",
       "      <td>Female</td>\n",
       "      <td>Hoodie</td>\n",
       "      <td>Clothing</td>\n",
       "      <td>28</td>\n",
       "      <td>Virginia</td>\n",
       "      <td>L</td>\n",
       "      <td>Turquoise</td>\n",
       "      <td>Summer</td>\n",
       "      <td>4.2</td>\n",
       "      <td>No</td>\n",
       "      <td>2-Day Shipping</td>\n",
       "      <td>No</td>\n",
       "      <td>No</td>\n",
       "      <td>32</td>\n",
       "      <td>Venmo</td>\n",
       "      <td>Weekly</td>\n",
       "    </tr>\n",
       "    <tr>\n",
       "      <th>3896</th>\n",
       "      <td>3897</td>\n",
       "      <td>52</td>\n",
       "      <td>Female</td>\n",
       "      <td>Backpack</td>\n",
       "      <td>Accessories</td>\n",
       "      <td>49</td>\n",
       "      <td>Iowa</td>\n",
       "      <td>L</td>\n",
       "      <td>White</td>\n",
       "      <td>Spring</td>\n",
       "      <td>4.5</td>\n",
       "      <td>No</td>\n",
       "      <td>Store Pickup</td>\n",
       "      <td>No</td>\n",
       "      <td>No</td>\n",
       "      <td>41</td>\n",
       "      <td>Bank Transfer</td>\n",
       "      <td>Bi-Weekly</td>\n",
       "    </tr>\n",
       "    <tr>\n",
       "      <th>3897</th>\n",
       "      <td>3898</td>\n",
       "      <td>46</td>\n",
       "      <td>Female</td>\n",
       "      <td>Belt</td>\n",
       "      <td>Accessories</td>\n",
       "      <td>33</td>\n",
       "      <td>New Jersey</td>\n",
       "      <td>L</td>\n",
       "      <td>Green</td>\n",
       "      <td>Spring</td>\n",
       "      <td>2.9</td>\n",
       "      <td>No</td>\n",
       "      <td>Standard</td>\n",
       "      <td>No</td>\n",
       "      <td>No</td>\n",
       "      <td>24</td>\n",
       "      <td>Venmo</td>\n",
       "      <td>Quarterly</td>\n",
       "    </tr>\n",
       "    <tr>\n",
       "      <th>3898</th>\n",
       "      <td>3899</td>\n",
       "      <td>44</td>\n",
       "      <td>Female</td>\n",
       "      <td>Shoes</td>\n",
       "      <td>Footwear</td>\n",
       "      <td>77</td>\n",
       "      <td>Minnesota</td>\n",
       "      <td>S</td>\n",
       "      <td>Brown</td>\n",
       "      <td>Summer</td>\n",
       "      <td>3.8</td>\n",
       "      <td>No</td>\n",
       "      <td>Express</td>\n",
       "      <td>No</td>\n",
       "      <td>No</td>\n",
       "      <td>24</td>\n",
       "      <td>Venmo</td>\n",
       "      <td>Weekly</td>\n",
       "    </tr>\n",
       "    <tr>\n",
       "      <th>3899</th>\n",
       "      <td>3900</td>\n",
       "      <td>52</td>\n",
       "      <td>Female</td>\n",
       "      <td>Handbag</td>\n",
       "      <td>Accessories</td>\n",
       "      <td>81</td>\n",
       "      <td>California</td>\n",
       "      <td>M</td>\n",
       "      <td>Beige</td>\n",
       "      <td>Spring</td>\n",
       "      <td>3.1</td>\n",
       "      <td>No</td>\n",
       "      <td>Store Pickup</td>\n",
       "      <td>No</td>\n",
       "      <td>No</td>\n",
       "      <td>33</td>\n",
       "      <td>Venmo</td>\n",
       "      <td>Quarterly</td>\n",
       "    </tr>\n",
       "  </tbody>\n",
       "</table>\n",
       "<p>3900 rows × 18 columns</p>\n",
       "</div>"
      ],
      "text/plain": [
       "      Customer ID  Age  Gender Item Purchased     Category  \\\n",
       "0               1   55    Male         Blouse     Clothing   \n",
       "1               2   19    Male        Sweater     Clothing   \n",
       "2               3   50    Male          Jeans     Clothing   \n",
       "3               4   21    Male        Sandals     Footwear   \n",
       "4               5   45    Male         Blouse     Clothing   \n",
       "...           ...  ...     ...            ...          ...   \n",
       "3895         3896   40  Female         Hoodie     Clothing   \n",
       "3896         3897   52  Female       Backpack  Accessories   \n",
       "3897         3898   46  Female           Belt  Accessories   \n",
       "3898         3899   44  Female          Shoes     Footwear   \n",
       "3899         3900   52  Female        Handbag  Accessories   \n",
       "\n",
       "      Purchase Amount (USD)       Location Size      Color  Season  \\\n",
       "0                        53       Kentucky    L       Gray  Winter   \n",
       "1                        64          Maine    L     Maroon  Winter   \n",
       "2                        73  Massachusetts    S     Maroon  Spring   \n",
       "3                        90   Rhode Island    M     Maroon  Spring   \n",
       "4                        49         Oregon    M  Turquoise  Spring   \n",
       "...                     ...            ...  ...        ...     ...   \n",
       "3895                     28       Virginia    L  Turquoise  Summer   \n",
       "3896                     49           Iowa    L      White  Spring   \n",
       "3897                     33     New Jersey    L      Green  Spring   \n",
       "3898                     77      Minnesota    S      Brown  Summer   \n",
       "3899                     81     California    M      Beige  Spring   \n",
       "\n",
       "      Review Rating Subscription Status   Shipping Type Discount Applied  \\\n",
       "0               3.1                 Yes         Express              Yes   \n",
       "1               3.1                 Yes         Express              Yes   \n",
       "2               3.1                 Yes   Free Shipping              Yes   \n",
       "3               3.5                 Yes    Next Day Air              Yes   \n",
       "4               2.7                 Yes   Free Shipping              Yes   \n",
       "...             ...                 ...             ...              ...   \n",
       "3895            4.2                  No  2-Day Shipping               No   \n",
       "3896            4.5                  No    Store Pickup               No   \n",
       "3897            2.9                  No        Standard               No   \n",
       "3898            3.8                  No         Express               No   \n",
       "3899            3.1                  No    Store Pickup               No   \n",
       "\n",
       "     Promo Code Used  Previous Purchases Payment Method Frequency of Purchases  \n",
       "0                Yes                  14          Venmo            Fortnightly  \n",
       "1                Yes                   2           Cash            Fortnightly  \n",
       "2                Yes                  23    Credit Card                 Weekly  \n",
       "3                Yes                  49         PayPal                 Weekly  \n",
       "4                Yes                  31         PayPal               Annually  \n",
       "...              ...                 ...            ...                    ...  \n",
       "3895              No                  32          Venmo                 Weekly  \n",
       "3896              No                  41  Bank Transfer              Bi-Weekly  \n",
       "3897              No                  24          Venmo              Quarterly  \n",
       "3898              No                  24          Venmo                 Weekly  \n",
       "3899              No                  33          Venmo              Quarterly  \n",
       "\n",
       "[3900 rows x 18 columns]"
      ]
     },
     "execution_count": 84,
     "metadata": {},
     "output_type": "execute_result"
    }
   ],
   "source": [
    "data = pd.read_csv('data/shopping_behavior_updated.csv')\n",
    "\n",
    "data"
   ]
  },
  {
   "cell_type": "markdown",
   "metadata": {},
   "source": [
    "## Basic Information"
   ]
  },
  {
   "cell_type": "markdown",
   "metadata": {},
   "source": [
    "Let's see what our data is."
   ]
  },
  {
   "cell_type": "code",
   "execution_count": 85,
   "metadata": {},
   "outputs": [
    {
     "data": {
      "text/html": [
       "<div>\n",
       "<style scoped>\n",
       "    .dataframe tbody tr th:only-of-type {\n",
       "        vertical-align: middle;\n",
       "    }\n",
       "\n",
       "    .dataframe tbody tr th {\n",
       "        vertical-align: top;\n",
       "    }\n",
       "\n",
       "    .dataframe thead th {\n",
       "        text-align: right;\n",
       "    }\n",
       "</style>\n",
       "<table border=\"1\" class=\"dataframe\">\n",
       "  <thead>\n",
       "    <tr style=\"text-align: right;\">\n",
       "      <th></th>\n",
       "      <th>Nulls</th>\n",
       "      <th>Uniques</th>\n",
       "      <th>Dtypes</th>\n",
       "    </tr>\n",
       "  </thead>\n",
       "  <tbody>\n",
       "    <tr>\n",
       "      <th>Customer ID</th>\n",
       "      <td>0.0</td>\n",
       "      <td>3900</td>\n",
       "      <td>int64</td>\n",
       "    </tr>\n",
       "    <tr>\n",
       "      <th>Age</th>\n",
       "      <td>0.0</td>\n",
       "      <td>53</td>\n",
       "      <td>int64</td>\n",
       "    </tr>\n",
       "    <tr>\n",
       "      <th>Gender</th>\n",
       "      <td>0.0</td>\n",
       "      <td>2</td>\n",
       "      <td>object</td>\n",
       "    </tr>\n",
       "    <tr>\n",
       "      <th>Item Purchased</th>\n",
       "      <td>0.0</td>\n",
       "      <td>25</td>\n",
       "      <td>object</td>\n",
       "    </tr>\n",
       "    <tr>\n",
       "      <th>Category</th>\n",
       "      <td>0.0</td>\n",
       "      <td>4</td>\n",
       "      <td>object</td>\n",
       "    </tr>\n",
       "    <tr>\n",
       "      <th>Purchase Amount (USD)</th>\n",
       "      <td>0.0</td>\n",
       "      <td>81</td>\n",
       "      <td>int64</td>\n",
       "    </tr>\n",
       "    <tr>\n",
       "      <th>Location</th>\n",
       "      <td>0.0</td>\n",
       "      <td>50</td>\n",
       "      <td>object</td>\n",
       "    </tr>\n",
       "    <tr>\n",
       "      <th>Size</th>\n",
       "      <td>0.0</td>\n",
       "      <td>4</td>\n",
       "      <td>object</td>\n",
       "    </tr>\n",
       "    <tr>\n",
       "      <th>Color</th>\n",
       "      <td>0.0</td>\n",
       "      <td>25</td>\n",
       "      <td>object</td>\n",
       "    </tr>\n",
       "    <tr>\n",
       "      <th>Season</th>\n",
       "      <td>0.0</td>\n",
       "      <td>4</td>\n",
       "      <td>object</td>\n",
       "    </tr>\n",
       "    <tr>\n",
       "      <th>Review Rating</th>\n",
       "      <td>0.0</td>\n",
       "      <td>26</td>\n",
       "      <td>float64</td>\n",
       "    </tr>\n",
       "    <tr>\n",
       "      <th>Subscription Status</th>\n",
       "      <td>0.0</td>\n",
       "      <td>2</td>\n",
       "      <td>object</td>\n",
       "    </tr>\n",
       "    <tr>\n",
       "      <th>Shipping Type</th>\n",
       "      <td>0.0</td>\n",
       "      <td>6</td>\n",
       "      <td>object</td>\n",
       "    </tr>\n",
       "    <tr>\n",
       "      <th>Discount Applied</th>\n",
       "      <td>0.0</td>\n",
       "      <td>2</td>\n",
       "      <td>object</td>\n",
       "    </tr>\n",
       "    <tr>\n",
       "      <th>Promo Code Used</th>\n",
       "      <td>0.0</td>\n",
       "      <td>2</td>\n",
       "      <td>object</td>\n",
       "    </tr>\n",
       "    <tr>\n",
       "      <th>Previous Purchases</th>\n",
       "      <td>0.0</td>\n",
       "      <td>50</td>\n",
       "      <td>int64</td>\n",
       "    </tr>\n",
       "    <tr>\n",
       "      <th>Payment Method</th>\n",
       "      <td>0.0</td>\n",
       "      <td>6</td>\n",
       "      <td>object</td>\n",
       "    </tr>\n",
       "    <tr>\n",
       "      <th>Frequency of Purchases</th>\n",
       "      <td>0.0</td>\n",
       "      <td>7</td>\n",
       "      <td>object</td>\n",
       "    </tr>\n",
       "  </tbody>\n",
       "</table>\n",
       "</div>"
      ],
      "text/plain": [
       "                        Nulls  Uniques   Dtypes\n",
       "Customer ID               0.0     3900    int64\n",
       "Age                       0.0       53    int64\n",
       "Gender                    0.0        2   object\n",
       "Item Purchased            0.0       25   object\n",
       "Category                  0.0        4   object\n",
       "Purchase Amount (USD)     0.0       81    int64\n",
       "Location                  0.0       50   object\n",
       "Size                      0.0        4   object\n",
       "Color                     0.0       25   object\n",
       "Season                    0.0        4   object\n",
       "Review Rating             0.0       26  float64\n",
       "Subscription Status       0.0        2   object\n",
       "Shipping Type             0.0        6   object\n",
       "Discount Applied          0.0        2   object\n",
       "Promo Code Used           0.0        2   object\n",
       "Previous Purchases        0.0       50    int64\n",
       "Payment Method            0.0        6   object\n",
       "Frequency of Purchases    0.0        7   object"
      ]
     },
     "execution_count": 85,
     "metadata": {},
     "output_type": "execute_result"
    }
   ],
   "source": [
    "funcs.get_data_info(data) "
   ]
  },
  {
   "cell_type": "markdown",
   "metadata": {},
   "source": [
    "> There are no Null values in our data"
   ]
  },
  {
   "cell_type": "code",
   "execution_count": 86,
   "metadata": {},
   "outputs": [
    {
     "data": {
      "text/html": [
       "<div>\n",
       "<style scoped>\n",
       "    .dataframe tbody tr th:only-of-type {\n",
       "        vertical-align: middle;\n",
       "    }\n",
       "\n",
       "    .dataframe tbody tr th {\n",
       "        vertical-align: top;\n",
       "    }\n",
       "\n",
       "    .dataframe thead th {\n",
       "        text-align: right;\n",
       "    }\n",
       "</style>\n",
       "<table border=\"1\" class=\"dataframe\">\n",
       "  <thead>\n",
       "    <tr style=\"text-align: right;\">\n",
       "      <th></th>\n",
       "      <th>Customer ID</th>\n",
       "      <th>Age</th>\n",
       "      <th>Purchase Amount (USD)</th>\n",
       "      <th>Review Rating</th>\n",
       "      <th>Previous Purchases</th>\n",
       "    </tr>\n",
       "  </thead>\n",
       "  <tbody>\n",
       "    <tr>\n",
       "      <th>count</th>\n",
       "      <td>3900.00</td>\n",
       "      <td>3900.00</td>\n",
       "      <td>3900.00</td>\n",
       "      <td>3900.00</td>\n",
       "      <td>3900.00</td>\n",
       "    </tr>\n",
       "    <tr>\n",
       "      <th>mean</th>\n",
       "      <td>1950.50</td>\n",
       "      <td>44.07</td>\n",
       "      <td>59.76</td>\n",
       "      <td>3.75</td>\n",
       "      <td>25.35</td>\n",
       "    </tr>\n",
       "    <tr>\n",
       "      <th>std</th>\n",
       "      <td>1125.98</td>\n",
       "      <td>15.21</td>\n",
       "      <td>23.69</td>\n",
       "      <td>0.72</td>\n",
       "      <td>14.45</td>\n",
       "    </tr>\n",
       "    <tr>\n",
       "      <th>min</th>\n",
       "      <td>1.00</td>\n",
       "      <td>18.00</td>\n",
       "      <td>20.00</td>\n",
       "      <td>2.50</td>\n",
       "      <td>1.00</td>\n",
       "    </tr>\n",
       "    <tr>\n",
       "      <th>25%</th>\n",
       "      <td>975.75</td>\n",
       "      <td>31.00</td>\n",
       "      <td>39.00</td>\n",
       "      <td>3.10</td>\n",
       "      <td>13.00</td>\n",
       "    </tr>\n",
       "    <tr>\n",
       "      <th>50%</th>\n",
       "      <td>1950.50</td>\n",
       "      <td>44.00</td>\n",
       "      <td>60.00</td>\n",
       "      <td>3.70</td>\n",
       "      <td>25.00</td>\n",
       "    </tr>\n",
       "    <tr>\n",
       "      <th>75%</th>\n",
       "      <td>2925.25</td>\n",
       "      <td>57.00</td>\n",
       "      <td>81.00</td>\n",
       "      <td>4.40</td>\n",
       "      <td>38.00</td>\n",
       "    </tr>\n",
       "    <tr>\n",
       "      <th>max</th>\n",
       "      <td>3900.00</td>\n",
       "      <td>70.00</td>\n",
       "      <td>100.00</td>\n",
       "      <td>5.00</td>\n",
       "      <td>50.00</td>\n",
       "    </tr>\n",
       "  </tbody>\n",
       "</table>\n",
       "</div>"
      ],
      "text/plain": [
       "       Customer ID      Age  Purchase Amount (USD)  Review Rating  \\\n",
       "count      3900.00  3900.00                3900.00        3900.00   \n",
       "mean       1950.50    44.07                  59.76           3.75   \n",
       "std        1125.98    15.21                  23.69           0.72   \n",
       "min           1.00    18.00                  20.00           2.50   \n",
       "25%         975.75    31.00                  39.00           3.10   \n",
       "50%        1950.50    44.00                  60.00           3.70   \n",
       "75%        2925.25    57.00                  81.00           4.40   \n",
       "max        3900.00    70.00                 100.00           5.00   \n",
       "\n",
       "       Previous Purchases  \n",
       "count             3900.00  \n",
       "mean                25.35  \n",
       "std                 14.45  \n",
       "min                  1.00  \n",
       "25%                 13.00  \n",
       "50%                 25.00  \n",
       "75%                 38.00  \n",
       "max                 50.00  "
      ]
     },
     "execution_count": 86,
     "metadata": {},
     "output_type": "execute_result"
    }
   ],
   "source": [
    "data.describe(exclude='object').round(2) "
   ]
  },
  {
   "cell_type": "code",
   "execution_count": 87,
   "metadata": {},
   "outputs": [
    {
     "data": {
      "text/html": [
       "<div>\n",
       "<style scoped>\n",
       "    .dataframe tbody tr th:only-of-type {\n",
       "        vertical-align: middle;\n",
       "    }\n",
       "\n",
       "    .dataframe tbody tr th {\n",
       "        vertical-align: top;\n",
       "    }\n",
       "\n",
       "    .dataframe thead th {\n",
       "        text-align: right;\n",
       "    }\n",
       "</style>\n",
       "<table border=\"1\" class=\"dataframe\">\n",
       "  <thead>\n",
       "    <tr style=\"text-align: right;\">\n",
       "      <th></th>\n",
       "      <th>Gender</th>\n",
       "      <th>Item Purchased</th>\n",
       "      <th>Category</th>\n",
       "      <th>Location</th>\n",
       "      <th>Size</th>\n",
       "      <th>Color</th>\n",
       "      <th>Season</th>\n",
       "      <th>Subscription Status</th>\n",
       "      <th>Shipping Type</th>\n",
       "      <th>Discount Applied</th>\n",
       "      <th>Promo Code Used</th>\n",
       "      <th>Payment Method</th>\n",
       "      <th>Frequency of Purchases</th>\n",
       "    </tr>\n",
       "  </thead>\n",
       "  <tbody>\n",
       "    <tr>\n",
       "      <th>count</th>\n",
       "      <td>3900</td>\n",
       "      <td>3900</td>\n",
       "      <td>3900</td>\n",
       "      <td>3900</td>\n",
       "      <td>3900</td>\n",
       "      <td>3900</td>\n",
       "      <td>3900</td>\n",
       "      <td>3900</td>\n",
       "      <td>3900</td>\n",
       "      <td>3900</td>\n",
       "      <td>3900</td>\n",
       "      <td>3900</td>\n",
       "      <td>3900</td>\n",
       "    </tr>\n",
       "    <tr>\n",
       "      <th>unique</th>\n",
       "      <td>2</td>\n",
       "      <td>25</td>\n",
       "      <td>4</td>\n",
       "      <td>50</td>\n",
       "      <td>4</td>\n",
       "      <td>25</td>\n",
       "      <td>4</td>\n",
       "      <td>2</td>\n",
       "      <td>6</td>\n",
       "      <td>2</td>\n",
       "      <td>2</td>\n",
       "      <td>6</td>\n",
       "      <td>7</td>\n",
       "    </tr>\n",
       "    <tr>\n",
       "      <th>top</th>\n",
       "      <td>Male</td>\n",
       "      <td>Blouse</td>\n",
       "      <td>Clothing</td>\n",
       "      <td>Montana</td>\n",
       "      <td>M</td>\n",
       "      <td>Olive</td>\n",
       "      <td>Spring</td>\n",
       "      <td>No</td>\n",
       "      <td>Free Shipping</td>\n",
       "      <td>No</td>\n",
       "      <td>No</td>\n",
       "      <td>PayPal</td>\n",
       "      <td>Every 3 Months</td>\n",
       "    </tr>\n",
       "    <tr>\n",
       "      <th>freq</th>\n",
       "      <td>2652</td>\n",
       "      <td>171</td>\n",
       "      <td>1737</td>\n",
       "      <td>96</td>\n",
       "      <td>1755</td>\n",
       "      <td>177</td>\n",
       "      <td>999</td>\n",
       "      <td>2847</td>\n",
       "      <td>675</td>\n",
       "      <td>2223</td>\n",
       "      <td>2223</td>\n",
       "      <td>677</td>\n",
       "      <td>584</td>\n",
       "    </tr>\n",
       "  </tbody>\n",
       "</table>\n",
       "</div>"
      ],
      "text/plain": [
       "       Gender Item Purchased  Category Location  Size  Color  Season  \\\n",
       "count    3900           3900      3900     3900  3900   3900    3900   \n",
       "unique      2             25         4       50     4     25       4   \n",
       "top      Male         Blouse  Clothing  Montana     M  Olive  Spring   \n",
       "freq     2652            171      1737       96  1755    177     999   \n",
       "\n",
       "       Subscription Status  Shipping Type Discount Applied Promo Code Used  \\\n",
       "count                 3900           3900             3900            3900   \n",
       "unique                   2              6                2               2   \n",
       "top                     No  Free Shipping               No              No   \n",
       "freq                  2847            675             2223            2223   \n",
       "\n",
       "       Payment Method Frequency of Purchases  \n",
       "count            3900                   3900  \n",
       "unique              6                      7  \n",
       "top            PayPal         Every 3 Months  \n",
       "freq              677                    584  "
      ]
     },
     "execution_count": 87,
     "metadata": {},
     "output_type": "execute_result"
    }
   ],
   "source": [
    "data.describe(include='object').round(2) "
   ]
  },
  {
   "cell_type": "markdown",
   "metadata": {},
   "source": [
    "We can delete `Customer ID` and `Discount Applied` columns. First one has the same number of unique values and it's values in general. The last one is logically idetntical to `Promo Code Used`, beacause if promo code was used, then discount was applied."
   ]
  },
  {
   "cell_type": "code",
   "execution_count": 88,
   "metadata": {},
   "outputs": [
    {
     "data": {
      "text/html": [
       "<div>\n",
       "<style scoped>\n",
       "    .dataframe tbody tr th:only-of-type {\n",
       "        vertical-align: middle;\n",
       "    }\n",
       "\n",
       "    .dataframe tbody tr th {\n",
       "        vertical-align: top;\n",
       "    }\n",
       "\n",
       "    .dataframe thead th {\n",
       "        text-align: right;\n",
       "    }\n",
       "</style>\n",
       "<table border=\"1\" class=\"dataframe\">\n",
       "  <thead>\n",
       "    <tr style=\"text-align: right;\">\n",
       "      <th></th>\n",
       "      <th>Age</th>\n",
       "      <th>Gender</th>\n",
       "      <th>Item Purchased</th>\n",
       "      <th>Category</th>\n",
       "      <th>Purchase Amount (USD)</th>\n",
       "      <th>Location</th>\n",
       "      <th>Size</th>\n",
       "      <th>Color</th>\n",
       "      <th>Season</th>\n",
       "      <th>Review Rating</th>\n",
       "      <th>Subscription Status</th>\n",
       "      <th>Shipping Type</th>\n",
       "      <th>Promo Code Used</th>\n",
       "      <th>Previous Purchases</th>\n",
       "      <th>Payment Method</th>\n",
       "      <th>Frequency of Purchases</th>\n",
       "    </tr>\n",
       "  </thead>\n",
       "  <tbody>\n",
       "    <tr>\n",
       "      <th>0</th>\n",
       "      <td>55</td>\n",
       "      <td>Male</td>\n",
       "      <td>Blouse</td>\n",
       "      <td>Clothing</td>\n",
       "      <td>53</td>\n",
       "      <td>Kentucky</td>\n",
       "      <td>L</td>\n",
       "      <td>Gray</td>\n",
       "      <td>Winter</td>\n",
       "      <td>3.1</td>\n",
       "      <td>Yes</td>\n",
       "      <td>Express</td>\n",
       "      <td>Yes</td>\n",
       "      <td>14</td>\n",
       "      <td>Venmo</td>\n",
       "      <td>Fortnightly</td>\n",
       "    </tr>\n",
       "    <tr>\n",
       "      <th>1</th>\n",
       "      <td>19</td>\n",
       "      <td>Male</td>\n",
       "      <td>Sweater</td>\n",
       "      <td>Clothing</td>\n",
       "      <td>64</td>\n",
       "      <td>Maine</td>\n",
       "      <td>L</td>\n",
       "      <td>Maroon</td>\n",
       "      <td>Winter</td>\n",
       "      <td>3.1</td>\n",
       "      <td>Yes</td>\n",
       "      <td>Express</td>\n",
       "      <td>Yes</td>\n",
       "      <td>2</td>\n",
       "      <td>Cash</td>\n",
       "      <td>Fortnightly</td>\n",
       "    </tr>\n",
       "    <tr>\n",
       "      <th>2</th>\n",
       "      <td>50</td>\n",
       "      <td>Male</td>\n",
       "      <td>Jeans</td>\n",
       "      <td>Clothing</td>\n",
       "      <td>73</td>\n",
       "      <td>Massachusetts</td>\n",
       "      <td>S</td>\n",
       "      <td>Maroon</td>\n",
       "      <td>Spring</td>\n",
       "      <td>3.1</td>\n",
       "      <td>Yes</td>\n",
       "      <td>Free Shipping</td>\n",
       "      <td>Yes</td>\n",
       "      <td>23</td>\n",
       "      <td>Credit Card</td>\n",
       "      <td>Weekly</td>\n",
       "    </tr>\n",
       "    <tr>\n",
       "      <th>3</th>\n",
       "      <td>21</td>\n",
       "      <td>Male</td>\n",
       "      <td>Sandals</td>\n",
       "      <td>Footwear</td>\n",
       "      <td>90</td>\n",
       "      <td>Rhode Island</td>\n",
       "      <td>M</td>\n",
       "      <td>Maroon</td>\n",
       "      <td>Spring</td>\n",
       "      <td>3.5</td>\n",
       "      <td>Yes</td>\n",
       "      <td>Next Day Air</td>\n",
       "      <td>Yes</td>\n",
       "      <td>49</td>\n",
       "      <td>PayPal</td>\n",
       "      <td>Weekly</td>\n",
       "    </tr>\n",
       "    <tr>\n",
       "      <th>4</th>\n",
       "      <td>45</td>\n",
       "      <td>Male</td>\n",
       "      <td>Blouse</td>\n",
       "      <td>Clothing</td>\n",
       "      <td>49</td>\n",
       "      <td>Oregon</td>\n",
       "      <td>M</td>\n",
       "      <td>Turquoise</td>\n",
       "      <td>Spring</td>\n",
       "      <td>2.7</td>\n",
       "      <td>Yes</td>\n",
       "      <td>Free Shipping</td>\n",
       "      <td>Yes</td>\n",
       "      <td>31</td>\n",
       "      <td>PayPal</td>\n",
       "      <td>Annually</td>\n",
       "    </tr>\n",
       "    <tr>\n",
       "      <th>...</th>\n",
       "      <td>...</td>\n",
       "      <td>...</td>\n",
       "      <td>...</td>\n",
       "      <td>...</td>\n",
       "      <td>...</td>\n",
       "      <td>...</td>\n",
       "      <td>...</td>\n",
       "      <td>...</td>\n",
       "      <td>...</td>\n",
       "      <td>...</td>\n",
       "      <td>...</td>\n",
       "      <td>...</td>\n",
       "      <td>...</td>\n",
       "      <td>...</td>\n",
       "      <td>...</td>\n",
       "      <td>...</td>\n",
       "    </tr>\n",
       "    <tr>\n",
       "      <th>3895</th>\n",
       "      <td>40</td>\n",
       "      <td>Female</td>\n",
       "      <td>Hoodie</td>\n",
       "      <td>Clothing</td>\n",
       "      <td>28</td>\n",
       "      <td>Virginia</td>\n",
       "      <td>L</td>\n",
       "      <td>Turquoise</td>\n",
       "      <td>Summer</td>\n",
       "      <td>4.2</td>\n",
       "      <td>No</td>\n",
       "      <td>2-Day Shipping</td>\n",
       "      <td>No</td>\n",
       "      <td>32</td>\n",
       "      <td>Venmo</td>\n",
       "      <td>Weekly</td>\n",
       "    </tr>\n",
       "    <tr>\n",
       "      <th>3896</th>\n",
       "      <td>52</td>\n",
       "      <td>Female</td>\n",
       "      <td>Backpack</td>\n",
       "      <td>Accessories</td>\n",
       "      <td>49</td>\n",
       "      <td>Iowa</td>\n",
       "      <td>L</td>\n",
       "      <td>White</td>\n",
       "      <td>Spring</td>\n",
       "      <td>4.5</td>\n",
       "      <td>No</td>\n",
       "      <td>Store Pickup</td>\n",
       "      <td>No</td>\n",
       "      <td>41</td>\n",
       "      <td>Bank Transfer</td>\n",
       "      <td>Bi-Weekly</td>\n",
       "    </tr>\n",
       "    <tr>\n",
       "      <th>3897</th>\n",
       "      <td>46</td>\n",
       "      <td>Female</td>\n",
       "      <td>Belt</td>\n",
       "      <td>Accessories</td>\n",
       "      <td>33</td>\n",
       "      <td>New Jersey</td>\n",
       "      <td>L</td>\n",
       "      <td>Green</td>\n",
       "      <td>Spring</td>\n",
       "      <td>2.9</td>\n",
       "      <td>No</td>\n",
       "      <td>Standard</td>\n",
       "      <td>No</td>\n",
       "      <td>24</td>\n",
       "      <td>Venmo</td>\n",
       "      <td>Quarterly</td>\n",
       "    </tr>\n",
       "    <tr>\n",
       "      <th>3898</th>\n",
       "      <td>44</td>\n",
       "      <td>Female</td>\n",
       "      <td>Shoes</td>\n",
       "      <td>Footwear</td>\n",
       "      <td>77</td>\n",
       "      <td>Minnesota</td>\n",
       "      <td>S</td>\n",
       "      <td>Brown</td>\n",
       "      <td>Summer</td>\n",
       "      <td>3.8</td>\n",
       "      <td>No</td>\n",
       "      <td>Express</td>\n",
       "      <td>No</td>\n",
       "      <td>24</td>\n",
       "      <td>Venmo</td>\n",
       "      <td>Weekly</td>\n",
       "    </tr>\n",
       "    <tr>\n",
       "      <th>3899</th>\n",
       "      <td>52</td>\n",
       "      <td>Female</td>\n",
       "      <td>Handbag</td>\n",
       "      <td>Accessories</td>\n",
       "      <td>81</td>\n",
       "      <td>California</td>\n",
       "      <td>M</td>\n",
       "      <td>Beige</td>\n",
       "      <td>Spring</td>\n",
       "      <td>3.1</td>\n",
       "      <td>No</td>\n",
       "      <td>Store Pickup</td>\n",
       "      <td>No</td>\n",
       "      <td>33</td>\n",
       "      <td>Venmo</td>\n",
       "      <td>Quarterly</td>\n",
       "    </tr>\n",
       "  </tbody>\n",
       "</table>\n",
       "<p>3900 rows × 16 columns</p>\n",
       "</div>"
      ],
      "text/plain": [
       "      Age  Gender Item Purchased     Category  Purchase Amount (USD)  \\\n",
       "0      55    Male         Blouse     Clothing                     53   \n",
       "1      19    Male        Sweater     Clothing                     64   \n",
       "2      50    Male          Jeans     Clothing                     73   \n",
       "3      21    Male        Sandals     Footwear                     90   \n",
       "4      45    Male         Blouse     Clothing                     49   \n",
       "...   ...     ...            ...          ...                    ...   \n",
       "3895   40  Female         Hoodie     Clothing                     28   \n",
       "3896   52  Female       Backpack  Accessories                     49   \n",
       "3897   46  Female           Belt  Accessories                     33   \n",
       "3898   44  Female          Shoes     Footwear                     77   \n",
       "3899   52  Female        Handbag  Accessories                     81   \n",
       "\n",
       "           Location Size      Color  Season  Review Rating  \\\n",
       "0          Kentucky    L       Gray  Winter            3.1   \n",
       "1             Maine    L     Maroon  Winter            3.1   \n",
       "2     Massachusetts    S     Maroon  Spring            3.1   \n",
       "3      Rhode Island    M     Maroon  Spring            3.5   \n",
       "4            Oregon    M  Turquoise  Spring            2.7   \n",
       "...             ...  ...        ...     ...            ...   \n",
       "3895       Virginia    L  Turquoise  Summer            4.2   \n",
       "3896           Iowa    L      White  Spring            4.5   \n",
       "3897     New Jersey    L      Green  Spring            2.9   \n",
       "3898      Minnesota    S      Brown  Summer            3.8   \n",
       "3899     California    M      Beige  Spring            3.1   \n",
       "\n",
       "     Subscription Status   Shipping Type Promo Code Used  Previous Purchases  \\\n",
       "0                    Yes         Express             Yes                  14   \n",
       "1                    Yes         Express             Yes                   2   \n",
       "2                    Yes   Free Shipping             Yes                  23   \n",
       "3                    Yes    Next Day Air             Yes                  49   \n",
       "4                    Yes   Free Shipping             Yes                  31   \n",
       "...                  ...             ...             ...                 ...   \n",
       "3895                  No  2-Day Shipping              No                  32   \n",
       "3896                  No    Store Pickup              No                  41   \n",
       "3897                  No        Standard              No                  24   \n",
       "3898                  No         Express              No                  24   \n",
       "3899                  No    Store Pickup              No                  33   \n",
       "\n",
       "     Payment Method Frequency of Purchases  \n",
       "0             Venmo            Fortnightly  \n",
       "1              Cash            Fortnightly  \n",
       "2       Credit Card                 Weekly  \n",
       "3            PayPal                 Weekly  \n",
       "4            PayPal               Annually  \n",
       "...             ...                    ...  \n",
       "3895          Venmo                 Weekly  \n",
       "3896  Bank Transfer              Bi-Weekly  \n",
       "3897          Venmo              Quarterly  \n",
       "3898          Venmo                 Weekly  \n",
       "3899          Venmo              Quarterly  \n",
       "\n",
       "[3900 rows x 16 columns]"
      ]
     },
     "execution_count": 88,
     "metadata": {},
     "output_type": "execute_result"
    }
   ],
   "source": [
    "data.drop(['Customer ID', 'Discount Applied'], axis=1, inplace=True)\n",
    "\n",
    "data"
   ]
  },
  {
   "cell_type": "markdown",
   "metadata": {},
   "source": [
    "----"
   ]
  },
  {
   "cell_type": "markdown",
   "metadata": {},
   "source": [
    "# <center> *Here comes the EDA*"
   ]
  },
  {
   "cell_type": "markdown",
   "metadata": {},
   "source": [
    "I selected 3 different target variables, so I will research this data in the context of them, because in my opinion these features describe consumers' behavior directly. Also each variable has it's own method of analysis (after \"-\"):"
   ]
  },
  {
   "cell_type": "markdown",
   "metadata": {},
   "source": [
    "1. `Purchase Amount (USD)` - correlation with other variables"
   ]
  },
  {
   "cell_type": "markdown",
   "metadata": {},
   "source": [
    "2. `Subscription Status` - bayesian probability of a class"
   ]
  },
  {
   "cell_type": "markdown",
   "metadata": {},
   "source": [
    "3. `Frequency of Purchases` - "
   ]
  },
  {
   "cell_type": "markdown",
   "metadata": {},
   "source": [
    "Let's divide our data by types of variables: \n",
    "- **Numeric** (`int`, `float`)\n",
    "- **Categorical** (`object`, `int`)"
   ]
  },
  {
   "cell_type": "code",
   "execution_count": 89,
   "metadata": {},
   "outputs": [
    {
     "name": "stdout",
     "output_type": "stream",
     "text": [
      "Numeric data:\n",
      "\tAge\n",
      "\tPurchase Amount (USD)\n",
      "\tReview Rating\n",
      "\tPrevious Purchases\n",
      "\n",
      "Categorical data:\n",
      "\tGender\n",
      "\tItem Purchased\n",
      "\tCategory\n",
      "\tLocation\n",
      "\tSize\n",
      "\tColor\n",
      "\tSeason\n",
      "\tSubscription Status\n",
      "\tShipping Type\n",
      "\tPromo Code Used\n",
      "\tPayment Method\n",
      "\tFrequency of Purchases\n"
     ]
    }
   ],
   "source": [
    "num_cols = []\n",
    "\n",
    "print('Numeric data:')\n",
    "for col in data.columns:\n",
    "    if data[col].dtype != 'object':\n",
    "        num_cols.append(col)\n",
    "        print('\\t'+col)\n",
    "\n",
    "\n",
    "cat_cols = []\n",
    "\n",
    "print('\\nCategorical data:')\n",
    "for col in data.columns:\n",
    "    if data[col].dtype == 'object':\n",
    "        cat_cols.append(col)\n",
    "        print('\\t'+col)"
   ]
  },
  {
   "cell_type": "markdown",
   "metadata": {},
   "source": [
    "---"
   ]
  },
  {
   "cell_type": "code",
   "execution_count": 97,
   "metadata": {},
   "outputs": [
    {
     "data": {
      "image/png": "[encoded data removed]",
      "text/plain": [
       "<Figure size 1200x800 with 2 Axes>"
      ]
     },
     "metadata": {},
     "output_type": "display_data"
    }
   ],
   "source": [
    "def get_cats(data):\n",
    "    df = data.copy()\n",
    "\n",
    "    for x in data.columns:\n",
    "        if df[x].dtype == 'object':\n",
    "            df[x] = (df[x]\n",
    "                     .astype('category')\n",
    "                     .cat\n",
    "                     .codes)\n",
    "            \n",
    "    return df\n",
    "\n",
    "corr_data = (get_cats(data)\n",
    "             .corr()\n",
    "             .abs()\n",
    "             .round(2))\n",
    "\n",
    "plt.figure(figsize=(12, 8))\n",
    "sb.heatmap(corr_data, \n",
    "           annot=True, \n",
    "           cmap='coolwarm')\n",
    "\n",
    "plt.title('Correlation map')\n",
    "plt.show()"
   ]
  },
  {
   "cell_type": "markdown",
   "metadata": {},
   "source": [
    "## *Purchase Amount*"
   ]
  },
  {
   "cell_type": "code",
   "execution_count": 95,
   "metadata": {},
   "outputs": [],
   "source": [
    "\n",
    "\n",
    "\n",
    "def show_corr_bars(target, data=data):\n",
    "    x = (get_cats(data)\n",
    "         .corr()\n",
    "         .abs()\n",
    "         .loc[target]\n",
    "         .drop(target))\n",
    "    \n",
    "    plt.figure(figsize=(20, 7))\n",
    "    sb.barplot(x, palette=pallete)\n",
    "    \n",
    "    plt.xticks(rotation=45)\n",
    "    plt.title(f'Correleation of {target} with selected features')\n",
    "    plt.show()"
   ]
  },
  {
   "cell_type": "code",
   "execution_count": 96,
   "metadata": {},
   "outputs": [
    {
     "data": {
      "image/png": "[encoded data removed]",
      "text/plain": [
       "<Figure size 2000x700 with 1 Axes>"
      ]
     },
     "metadata": {},
     "output_type": "display_data"
    }
   ],
   "source": [
    "show_corr_bars('Purchase Amount (USD)') "
   ]
  },
  {
   "cell_type": "code",
   "execution_count": null,
   "metadata": {},
   "outputs": [],
   "source": []
  },
  {
   "cell_type": "code",
   "execution_count": null,
   "metadata": {},
   "outputs": [],
   "source": []
  },
  {
   "cell_type": "code",
   "execution_count": null,
   "metadata": {},
   "outputs": [],
   "source": []
  },
  {
   "cell_type": "code",
   "execution_count": null,
   "metadata": {},
   "outputs": [],
   "source": []
  },
  {
   "cell_type": "code",
   "execution_count": null,
   "metadata": {},
   "outputs": [],
   "source": []
  },
  {
   "cell_type": "code",
   "execution_count": null,
   "metadata": {},
   "outputs": [],
   "source": []
  },
  {
   "cell_type": "markdown",
   "metadata": {},
   "source": [
    "## *Frequency of Purchases*"
   ]
  },
  {
   "cell_type": "code",
   "execution_count": null,
   "metadata": {},
   "outputs": [],
   "source": [
    "def show_mean_freq(feat, data=data):\n",
    "    mean_data = (data\n",
    "                 .groupby('Frequency of Purchases')[feat]\n",
    "                 .mean())\n",
    "    \n",
    "    if data[feat].dtype == float:\n",
    "        m_val = int(mean_data.mean()) + 0.5\n",
    "    else:\n",
    "        m_val = int(mean_data.mean() / 10) * 10\n",
    "    \n",
    "    mean_data -= m_val\n",
    "    \n",
    "    fig, ax = plt.subplots(2, 1, figsize=(12, 10))\n",
    "    \n",
    "    sb.kdeplot(data, \n",
    "               x=feat, \n",
    "               hue='Frequency of Purchases', \n",
    "               bw_adjust=0.4,\n",
    "               ax=ax[0])\n",
    "    \n",
    "    sb.barplot(mean_data, palette='muted', ax=ax[1])\n",
    "    \n",
    "    ax[0].set_title(f'Normalised distribution of {feat}')\n",
    "    \n",
    "    ax[1].set_title(f'Mean {feat} per Frequency of Purchases')\n",
    "    ax[1].set_ylabel(f'{feat} (+ {m_val})')\n",
    "    fig.show()\n",
    "    \n",
    "\n",
    "for col in data.columns:\n",
    "    if data[col].dtype != 'object':\n",
    "        print(col)"
   ]
  },
  {
   "cell_type": "markdown",
   "metadata": {},
   "source": [
    "### *Age*"
   ]
  },
  {
   "cell_type": "code",
   "execution_count": null,
   "metadata": {},
   "outputs": [],
   "source": [
    "show_mean_freq('Age') "
   ]
  },
  {
   "cell_type": "markdown",
   "metadata": {},
   "source": [
    "### *Purchase Amount (USD)*"
   ]
  },
  {
   "cell_type": "code",
   "execution_count": null,
   "metadata": {},
   "outputs": [],
   "source": [
    "show_mean_freq('Purchase Amount (USD)')"
   ]
  },
  {
   "cell_type": "markdown",
   "metadata": {},
   "source": [
    "### *Review Rating*"
   ]
  },
  {
   "cell_type": "code",
   "execution_count": null,
   "metadata": {},
   "outputs": [],
   "source": [
    "show_mean_freq('Review Rating')"
   ]
  },
  {
   "cell_type": "markdown",
   "metadata": {},
   "source": [
    "### *Previous Purchases*"
   ]
  },
  {
   "cell_type": "code",
   "execution_count": null,
   "metadata": {},
   "outputs": [],
   "source": [
    "show_mean_freq('Previous Purchases')"
   ]
  },
  {
   "cell_type": "markdown",
   "metadata": {},
   "source": [
    "> Distribution in all numeric features is **uniform**. "
   ]
  },
  {
   "cell_type": "markdown",
   "metadata": {},
   "source": [
    "---"
   ]
  },
  {
   "cell_type": "markdown",
   "metadata": {},
   "source": [
    "## Categorical data"
   ]
  },
  {
   "cell_type": "code",
   "execution_count": null,
   "metadata": {},
   "outputs": [],
   "source": [
    "show_corr_bars('Subscription Status')"
   ]
  },
  {
   "cell_type": "code",
   "execution_count": null,
   "metadata": {},
   "outputs": [
    {
     "name": "stdout",
     "output_type": "stream",
     "text": [
      "Gender\n",
      "Category\n",
      "Size\n",
      "Season\n",
      "Subscription Status\n",
      "Shipping Type\n",
      "Promo Code Used\n",
      "Payment Method\n",
      "Frequency of Purchases\n"
     ]
    }
   ],
   "source": [
    "def get_bayesian_proba(A, \n",
    "                       B, \n",
    "                       calc_proba, \n",
    "                       given_that, \n",
    "                       data=data):\n",
    "    \n",
    "    ct_data = pd.crosstab(index=data[A], \n",
    "                          columns=data[B], \n",
    "                          margins=True)\n",
    "    \n",
    "    # Conditional probability:\n",
    "    # p(B|A) = p(B and A) / p(A)\n",
    "    proba_BA = (ct_data.loc[calc_proba, given_that] \n",
    "                / ct_data.loc[calc_proba, 'All'])\n",
    "    \n",
    "    # Bayesian probability:\n",
    "    # p(A|B) = p(A) * p(B|A) / p(B)\n",
    "    proba_AB = (ct_data.loc[calc_proba, 'All'] \n",
    "                * proba_BA \n",
    "                / ct_data.loc['All', given_that])\n",
    "    \n",
    "    return round(proba_AB, 2)\n",
    "\n",
    "\n",
    "def show_bayes_bars(X, \n",
    "                    y='Frequency of Purchases', \n",
    "                    data=data):\n",
    "    X_vals = data[X].unique()\n",
    "    y_vals = data[y].unique()\n",
    "    \n",
    "    X_list = []\n",
    "    y_list = []\n",
    "    probas = []\n",
    "\n",
    "    for typ in y_vals:\n",
    "        for val in X_vals:\n",
    "            X_list.append(val)\n",
    "            y_list.append(typ)\n",
    "            \n",
    "            p = get_bayesian_proba(A=X, \n",
    "                                   B=y, \n",
    "                                   calc_proba=val, \n",
    "                                   given_that=typ)\n",
    "            probas.append(p)\n",
    "            \n",
    "    bayes_data = pd.DataFrame({X: X_list, \n",
    "                               y: y_list, \n",
    "                               'Probability': probas})\n",
    "    \n",
    "    plt.figure(figsize=(len(y_vals)*2, 5))\n",
    "    sb.barplot(bayes_data, \n",
    "               x=y, \n",
    "               y='Probability', \n",
    "               hue=X)\n",
    "    \n",
    "    plt.title(f'Probability of {X} when {y} is given')\n",
    "    plt.show()\n",
    "    \n",
    "\n",
    "for col in data.columns:\n",
    "    if data[col].nunique() <= 10:\n",
    "        print(col)"
   ]
  },
  {
   "cell_type": "markdown",
   "metadata": {},
   "source": [
    "### *Gender*"
   ]
  },
  {
   "cell_type": "code",
   "execution_count": null,
   "metadata": {},
   "outputs": [
    {
     "data": {
      "image/png": "[encoded data removed]",
      "text/plain": [
       "<Figure size 1400x500 with 1 Axes>"
      ]
     },
     "metadata": {},
     "output_type": "display_data"
    }
   ],
   "source": [
    "show_bayes_bars('Gender') "
   ]
  },
  {
   "cell_type": "markdown",
   "metadata": {},
   "source": [
    "### *Category*"
   ]
  },
  {
   "cell_type": "code",
   "execution_count": null,
   "metadata": {},
   "outputs": [],
   "source": [
    "show_bayes_bars('Category')"
   ]
  },
  {
   "cell_type": "markdown",
   "metadata": {},
   "source": [
    "### *Size*"
   ]
  },
  {
   "cell_type": "code",
   "execution_count": null,
   "metadata": {},
   "outputs": [],
   "source": [
    "show_bayes_bars('Size')"
   ]
  },
  {
   "cell_type": "markdown",
   "metadata": {},
   "source": [
    "### *Season*"
   ]
  },
  {
   "cell_type": "code",
   "execution_count": null,
   "metadata": {},
   "outputs": [],
   "source": [
    "show_bayes_bars('Season')"
   ]
  },
  {
   "cell_type": "markdown",
   "metadata": {},
   "source": [
    "### *Subscription Status*"
   ]
  },
  {
   "cell_type": "code",
   "execution_count": null,
   "metadata": {},
   "outputs": [],
   "source": [
    "show_bayes_bars('Subscription Status') "
   ]
  },
  {
   "cell_type": "markdown",
   "metadata": {},
   "source": [
    "### *Shipping Type*"
   ]
  },
  {
   "cell_type": "code",
   "execution_count": null,
   "metadata": {},
   "outputs": [],
   "source": [
    "show_bayes_bars('Shipping Type') "
   ]
  },
  {
   "cell_type": "markdown",
   "metadata": {},
   "source": [
    "### *Promo Code Used*"
   ]
  },
  {
   "cell_type": "code",
   "execution_count": null,
   "metadata": {},
   "outputs": [],
   "source": [
    "show_bayes_bars('Promo Code Used')"
   ]
  },
  {
   "cell_type": "markdown",
   "metadata": {},
   "source": [
    "### *Payment Method*"
   ]
  },
  {
   "cell_type": "code",
   "execution_count": null,
   "metadata": {},
   "outputs": [],
   "source": [
    "show_bayes_bars('Payment Method')"
   ]
  },
  {
   "cell_type": "markdown",
   "metadata": {},
   "source": [
    "---"
   ]
  },
  {
   "cell_type": "markdown",
   "metadata": {},
   "source": [
    "## Other type data"
   ]
  },
  {
   "cell_type": "code",
   "execution_count": null,
   "metadata": {},
   "outputs": [],
   "source": [
    "for col in data.columns:\n",
    "    if ((data[col].nunique() > 10) and \n",
    "        (data[col].dtype == 'object')):\n",
    "        \n",
    "        print(col) "
   ]
  },
  {
   "cell_type": "markdown",
   "metadata": {},
   "source": [
    "### *Item Purchased*"
   ]
  },
  {
   "cell_type": "code",
   "execution_count": null,
   "metadata": {},
   "outputs": [],
   "source": [
    "data['Item Purchased'].value_counts()"
   ]
  },
  {
   "cell_type": "code",
   "execution_count": null,
   "metadata": {},
   "outputs": [],
   "source": [
    "items_vc = data['Item Purchased'].value_counts()\n",
    "\n",
    "plt.figure(figsize=(15, 5))\n",
    "sb.barplot(items_vc, palette='muted')\n",
    "\n",
    "plt.xticks(rotation='vertical')\n",
    "plt.show()"
   ]
  },
  {
   "cell_type": "markdown",
   "metadata": {},
   "source": [
    "### *Location*"
   ]
  },
  {
   "cell_type": "code",
   "execution_count": null,
   "metadata": {},
   "outputs": [],
   "source": [
    "data['Location'].value_counts().index"
   ]
  },
  {
   "cell_type": "code",
   "execution_count": null,
   "metadata": {},
   "outputs": [],
   "source": [
    "def change_location(x):\n",
    "    zones = {'0': ['New Jersey', 'Connecticut', 'Rhode Island', 'Massachusetts', 'New Hampshire', 'Vermont', 'Maine'], \n",
    "             '1': ['Delaware', 'Pennsylvania', 'New York'], \n",
    "             '2': ['Maryland', 'Virginia', 'West Virginia', 'North Carolina', 'South Carolina'], \n",
    "             '3': ['Mississippi', 'Tennessee', 'Alabama', 'Georgia', 'Florida'], \n",
    "             '4': ['Michigan', 'Indiana', 'Ohio', 'Kentucky'], \n",
    "             '5': ['Montana', 'North Dakota', 'South Dakota', 'Minnesota', 'Iowa', 'Wisconsin'], \n",
    "             '6': ['Nebraska', 'Kansas', 'Missouri', 'Illinois'], \n",
    "             '7': ['Texas', 'Oklahoma', 'Arkansas', 'Louisiana'], \n",
    "             '8': ['Idaho', 'Wyoming', 'Utah', 'Nevada', 'Colorado', 'Arizona', 'New Mexico'], \n",
    "             '9': ['Washington', 'Oregon', 'California', 'Alaska', 'Hawaii']}\n",
    "    \n",
    "    for k, v in zones.items():\n",
    "        if x in v:\n",
    "            x = k\n",
    "    \n",
    "    return x\n",
    "\n",
    "\n",
    "locs_vc = (data['Location']\n",
    "           .apply(change_location)\n",
    "           .value_counts())\n",
    "\n",
    "plt.figure(figsize=(15, 5))\n",
    "sb.barplot(locs_vc, palette='muted')\n",
    "\n",
    "plt.show()"
   ]
  },
  {
   "cell_type": "markdown",
   "metadata": {},
   "source": [
    "### *Color*"
   ]
  },
  {
   "cell_type": "code",
   "execution_count": null,
   "metadata": {},
   "outputs": [],
   "source": [
    "data['Color'].value_counts()"
   ]
  },
  {
   "cell_type": "code",
   "execution_count": null,
   "metadata": {},
   "outputs": [],
   "source": [
    "def change_color(x):\n",
    "    colors = {'Red': ['Maroon'], \n",
    "              'Yellow': ['Gold'], \n",
    "              'Green': ['Olive'], \n",
    "              'Blue': ['Teal', 'Cyan', 'Indigo', 'Turquoise'],\n",
    "              'Purple': ['Violet', 'Lavender'], \n",
    "              'Pink': ['Magenta', 'Peach'], \n",
    "              'Gray': ['Silver', 'Charcoal', 'Beige']}\n",
    "    \n",
    "    for k, v in colors.items():\n",
    "        if x in v:\n",
    "            x = k\n",
    "    \n",
    "    return x\n",
    "\n",
    "\n",
    "colors_vc = (data['Color']\n",
    "             .apply(change_color)\n",
    "             .value_counts())\n",
    "\n",
    "c_palette = (colors_vc\n",
    "             .index\n",
    "             .tolist())\n",
    "\n",
    "plt.figure(figsize=(15, 5))\n",
    "sb.barplot(colors_vc, palette=c_palette)\n",
    "\n",
    "plt.show()"
   ]
  },
  {
   "cell_type": "markdown",
   "metadata": {},
   "source": [
    "---"
   ]
  },
  {
   "cell_type": "markdown",
   "metadata": {},
   "source": [
    "# <center> *Data Processing & Modeling*"
   ]
  },
  {
   "cell_type": "code",
   "execution_count": null,
   "metadata": {},
   "outputs": [],
   "source": [
    "def X_y_split(target, data=data): \n",
    "    X = data.drop(target, axis=1)\n",
    "    y = data[target]\n",
    "    \n",
    "    return X, y \n",
    "\n",
    "\n",
    "def trains_tests_split(X, y):    \n",
    "    X_train, X_test, y_train, y_test = \\\n",
    "        ms.train_test_split(X, y, \n",
    "                            random_state=RS, \n",
    "                            test_size=0.2)\n",
    "    \n",
    "    print(f'Train sample counts {X_train.shape[0]} rows')\n",
    "    print(f'Test sample counts {X_test.shape[0]} rows')\n",
    "    \n",
    "    return X_train, X_test, y_train, y_test\n",
    "\n",
    "\n",
    "def transform_X(X, transformer):\n",
    "    X_ = transformer.fit_transform(X)\n",
    "    \n",
    "    return pd.DataFrame(X_, columns=X.columns)\n",
    "\n",
    "\n",
    "def dump_model(model, task_dir, f_name):\n",
    "    with open(f'models/{task_dir}/{f_name}.pkl', 'wb') as m_file:\n",
    "        pickle.dump(model, m_file)\n",
    "        \n",
    "    print(f'{model}\\nis saved into \"{task_dir}\".')\n",
    "    \n",
    "    \n",
    "reg_dir = 'purchase_amount'\n",
    "clf_dir = 'subscription_status'\n",
    "mcc_dir = 'frequency_of_purchases'"
   ]
  },
  {
   "cell_type": "markdown",
   "metadata": {},
   "source": [
    "---"
   ]
  },
  {
   "cell_type": "markdown",
   "metadata": {},
   "source": [
    "## Regression task"
   ]
  },
  {
   "cell_type": "code",
   "execution_count": null,
   "metadata": {},
   "outputs": [],
   "source": [
    "X, y = X_y_split('Purchase Amount (USD)')\n",
    "\n",
    "X.head()"
   ]
  },
  {
   "cell_type": "markdown",
   "metadata": {},
   "source": [
    "### *Encoding*"
   ]
  },
  {
   "cell_type": "code",
   "execution_count": null,
   "metadata": {},
   "outputs": [],
   "source": [
    "encoder = pp.OrdinalEncoder()\n",
    "X = transform_X(X, encoder)\n",
    "\n",
    "X.head()"
   ]
  },
  {
   "cell_type": "code",
   "execution_count": null,
   "metadata": {},
   "outputs": [],
   "source": [
    "dump_model(encoder, reg_dir, 'reg_encoder') "
   ]
  },
  {
   "cell_type": "markdown",
   "metadata": {},
   "source": [
    "### *Scaling*"
   ]
  },
  {
   "cell_type": "code",
   "execution_count": null,
   "metadata": {},
   "outputs": [],
   "source": [
    "scaler = pp.MinMaxScaler()\n",
    "X = transform_X(X, scaler)\n",
    "\n",
    "X.head()"
   ]
  },
  {
   "cell_type": "code",
   "execution_count": null,
   "metadata": {},
   "outputs": [],
   "source": [
    "dump_model(scaler, reg_dir, 'reg_scaler')"
   ]
  },
  {
   "cell_type": "markdown",
   "metadata": {},
   "source": [
    "### *Linear Regression (baseline)*"
   ]
  },
  {
   "cell_type": "code",
   "execution_count": null,
   "metadata": {},
   "outputs": [],
   "source": [
    "X_train, X_test, y_train, y_test = trains_tests_split(X, y) "
   ]
  },
  {
   "cell_type": "code",
   "execution_count": null,
   "metadata": {},
   "outputs": [],
   "source": [
    "def print_scores(train, test):\n",
    "    print(f'Train score: {train.round(2)}')\n",
    "    print(f'Test score: {test.round(2)}\\n')\n",
    "    print(f'Difference is {np.abs(train-test).round(2)}')\n",
    "\n",
    "\n",
    "def get_model_scores(model, \n",
    "                     scoring, \n",
    "                     X_train=X_train, \n",
    "                     X_test=X_test, \n",
    "                     y_train=y_train, \n",
    "                     y_test=y_test):\n",
    "    \n",
    "    model.fit(X_train, y_train)\n",
    "\n",
    "    y_pred_train = model.predict(X_train)\n",
    "    y_pred_test = model.predict(X_test)\n",
    "\n",
    "    train_score = scoring(y_train, y_pred_train)\n",
    "    test_score = scoring(y_test, y_pred_test)\n",
    "    \n",
    "    print_scores(train_score, test_score)\n",
    "    \n",
    "    \n",
    "get_regression_scores = lambda model: get_model_scores(model, m.mean_absolute_percentage_error)"
   ]
  },
  {
   "cell_type": "code",
   "execution_count": null,
   "metadata": {},
   "outputs": [],
   "source": [
    "def gridsearch_opt(model, params, scoring):\n",
    "    search = ms.RandomizedSearchCV(model, \n",
    "                                   params, \n",
    "                                   scoring=scoring, \n",
    "                                   cv=10, \n",
    "                                   random_state=RS,\n",
    "                                   n_jobs=-1)\n",
    "    \n",
    "    search.fit(X_train, y_train)\n",
    "    \n",
    "    train_score = search.score(X_train, y_train)\n",
    "    test_score = search.score(X_test, y_test)\n",
    "\n",
    "    print_scores(train_score, test_score)\n",
    "    \n",
    "    return search.best_params_\n",
    "    \n",
    "\n",
    "gs_opt_regression = lambda model, params: gridsearch_opt(model, \n",
    "                                                         params=params, \n",
    "                                                         scoring='neg_mean_absolute_percentage_error')"
   ]
  },
  {
   "cell_type": "code",
   "execution_count": null,
   "metadata": {},
   "outputs": [],
   "source": [
    "base_reg = lm.LinearRegression(n_jobs=-1)\n",
    "\n",
    "get_regression_scores(base_reg)"
   ]
  },
  {
   "cell_type": "code",
   "execution_count": null,
   "metadata": {},
   "outputs": [],
   "source": [
    "pf = pp.PolynomialFeatures(degree=2)\n",
    "\n",
    "X_train_poly = pf.fit_transform(X_train, y_train)\n",
    "X_test_poly = pf.fit_transform(X_test, y_train)\n",
    "\n",
    "feats_diff = X_train_poly.shape[1] - X_train.shape[1]\n",
    "print(f'Number of polynomial features is {feats_diff}.\\n')\n",
    "\n",
    "get_model_scores(lm.LinearRegression(n_jobs=-1), \n",
    "                 m.mean_absolute_percentage_error, \n",
    "                 X_train=X_train_poly, \n",
    "                 X_test=X_test_poly)"
   ]
  },
  {
   "cell_type": "markdown",
   "metadata": {},
   "source": [
    "### *Stochastic Gradient Descend*"
   ]
  },
  {
   "cell_type": "code",
   "execution_count": null,
   "metadata": {},
   "outputs": [],
   "source": [
    "sgd_reg = lm.SGDRegressor(random_state=RS)\n",
    "\n",
    "get_regression_scores(sgd_reg)"
   ]
  },
  {
   "cell_type": "code",
   "execution_count": null,
   "metadata": {},
   "outputs": [],
   "source": [
    "sgd_params = {\n",
    "    \n",
    "}"
   ]
  },
  {
   "cell_type": "markdown",
   "metadata": {},
   "source": [
    "### *Decision Tree*"
   ]
  },
  {
   "cell_type": "code",
   "execution_count": null,
   "metadata": {},
   "outputs": [],
   "source": [
    "dt_reg = t.DecisionTreeRegressor(random_state=RS)\n",
    "\n",
    "get_regression_scores(dt_reg)"
   ]
  },
  {
   "cell_type": "code",
   "execution_count": null,
   "metadata": {},
   "outputs": [],
   "source": [
    "dt_params = {'max_depth': [3, 4, 5, 6], \n",
    "             'min_samples_leaf': [1, 2, 3, 4]}\n",
    "\n",
    "gs_opt_regression(dt_reg, dt_params)"
   ]
  },
  {
   "cell_type": "markdown",
   "metadata": {},
   "source": [
    "### *Random Forest*"
   ]
  },
  {
   "cell_type": "code",
   "execution_count": null,
   "metadata": {},
   "outputs": [],
   "source": [
    "rf_reg = ens.RandomForestRegressor(random_state=RS, n_jobs=-1)\n",
    "\n",
    "get_regression_scores(rf_reg)"
   ]
  },
  {
   "cell_type": "code",
   "execution_count": null,
   "metadata": {},
   "outputs": [],
   "source": [
    "rf_params = {'n_estimators': [100, 200, 300], \n",
    "             'max_depth': [3, 4, 5]}\n",
    "\n",
    "gs_opt_regression(rf_reg, rf_params)"
   ]
  },
  {
   "cell_type": "markdown",
   "metadata": {},
   "source": [
    "### *Subtotal (regression)*"
   ]
  },
  {
   "cell_type": "markdown",
   "metadata": {},
   "source": [
    "I think, there is no point to use more complex models, because they don't show greater efficienсy, and MAPE score is already pretty good even on the baseline."
   ]
  },
  {
   "cell_type": "code",
   "execution_count": null,
   "metadata": {},
   "outputs": [],
   "source": [
    "show_coefs = lambda model, X=X: pd.DataFrame(model.coef_.reshape((1, 15)), \n",
    "                                             index=['w'], \n",
    "                                             columns=X.columns) \n",
    "    \n",
    "\n",
    "show_coefs(base_reg)"
   ]
  },
  {
   "cell_type": "code",
   "execution_count": null,
   "metadata": {},
   "outputs": [],
   "source": [
    "dump_model(base_reg, reg_dir, 'reg_model') "
   ]
  },
  {
   "cell_type": "markdown",
   "metadata": {},
   "source": [
    "---"
   ]
  },
  {
   "cell_type": "markdown",
   "metadata": {},
   "source": [
    "## Classification task"
   ]
  },
  {
   "cell_type": "code",
   "execution_count": null,
   "metadata": {},
   "outputs": [],
   "source": [
    "X, y = X_y_split('Subscription Status')\n",
    "\n",
    "X.head()"
   ]
  },
  {
   "cell_type": "markdown",
   "metadata": {},
   "source": [
    "### *Encoding*"
   ]
  },
  {
   "cell_type": "code",
   "execution_count": null,
   "metadata": {},
   "outputs": [],
   "source": [
    "encoder = pp.OrdinalEncoder()\n",
    "X = transform_X(X, encoder)\n",
    "\n",
    "X.head()"
   ]
  },
  {
   "cell_type": "code",
   "execution_count": null,
   "metadata": {},
   "outputs": [],
   "source": [
    "y = y.apply(lambda x: 1 if x == 'Yes' else 0)\n",
    "\n",
    "y"
   ]
  },
  {
   "cell_type": "code",
   "execution_count": null,
   "metadata": {},
   "outputs": [],
   "source": [
    "dump_model(encoder, clf_dir, 'clf_encoder')"
   ]
  },
  {
   "cell_type": "markdown",
   "metadata": {},
   "source": [
    "### *Scaling*"
   ]
  },
  {
   "cell_type": "code",
   "execution_count": null,
   "metadata": {},
   "outputs": [],
   "source": [
    "scaler = pp.MinMaxScaler()\n",
    "X = transform_X(X, scaler)\n",
    "\n",
    "X.head()"
   ]
  },
  {
   "cell_type": "code",
   "execution_count": null,
   "metadata": {},
   "outputs": [],
   "source": [
    "dump_model(scaler, clf_dir, 'clf_scaler')"
   ]
  },
  {
   "cell_type": "markdown",
   "metadata": {},
   "source": [
    "### *Logistic Regression (baseline)*"
   ]
  },
  {
   "cell_type": "code",
   "execution_count": null,
   "metadata": {},
   "outputs": [],
   "source": [
    "X_train, X_test, y_train, y_test = trains_tests_split(X, y) "
   ]
  },
  {
   "cell_type": "code",
   "execution_count": null,
   "metadata": {},
   "outputs": [],
   "source": [
    "get_classification_score = lambda model: get_model_scores(model, \n",
    "                                                          m.accuracy_score, \n",
    "                                                          X_train=X_train, \n",
    "                                                          X_test=X_test, \n",
    "                                                          y_train=y_train, \n",
    "                                                          y_test=y_test)\n",
    "\n",
    "gs_opt_classification = lambda model, params: gridsearch_opt(model, \n",
    "                                                             params=params, \n",
    "                                                             scoring='accuracy')"
   ]
  },
  {
   "cell_type": "code",
   "execution_count": null,
   "metadata": {},
   "outputs": [],
   "source": [
    "base_clf = lm.LogisticRegression(random_state=RS, n_jobs=-1)\n",
    "\n",
    "get_classification_score(base_clf)"
   ]
  },
  {
   "cell_type": "markdown",
   "metadata": {},
   "source": [
    "### *Stochastic Gradient Descend*"
   ]
  },
  {
   "cell_type": "code",
   "execution_count": null,
   "metadata": {},
   "outputs": [],
   "source": [
    "sgd_clf = lm.SGDClassifier(random_state=RS, n_jobs=-1)\n",
    "\n",
    "get_classification_score(sgd_clf)"
   ]
  },
  {
   "cell_type": "code",
   "execution_count": null,
   "metadata": {},
   "outputs": [],
   "source": [
    "sgd_params = {'loss': ['hinge', 'log_loss', 'perceptron', 'huber'], \n",
    "              'alpha': np.linspace(1e-6, 10, 20), \n",
    "              'tol': np.linspace(1e-6, 10, 20)}\n",
    "\n",
    "gs_opt_classification(sgd_clf, sgd_params)"
   ]
  },
  {
   "cell_type": "markdown",
   "metadata": {},
   "source": [
    "### *Decision Tree*"
   ]
  },
  {
   "cell_type": "code",
   "execution_count": null,
   "metadata": {},
   "outputs": [],
   "source": [
    "dt_clf = t.DecisionTreeClassifier(random_state=RS)\n",
    "\n",
    "get_classification_score(dt_clf)"
   ]
  },
  {
   "cell_type": "code",
   "execution_count": null,
   "metadata": {},
   "outputs": [],
   "source": [
    "dt_params = {'criterion': ['gini', 'entropy', 'log_loss'],\n",
    "             'max_depth': [3, 4, 5, 6], \n",
    "             'min_samples_leaf': [1, 2, 3, 4]}\n",
    "\n",
    "gs_opt_classification(dt_clf, dt_params)"
   ]
  },
  {
   "cell_type": "markdown",
   "metadata": {},
   "source": [
    "### *Random Forest*"
   ]
  },
  {
   "cell_type": "code",
   "execution_count": null,
   "metadata": {},
   "outputs": [],
   "source": [
    "rf_clf = ens.RandomForestClassifier(random_state=RS, n_jobs=-1)\n",
    "\n",
    "get_classification_score(rf_clf)"
   ]
  },
  {
   "cell_type": "code",
   "execution_count": null,
   "metadata": {},
   "outputs": [],
   "source": [
    "rf_params = {'criterion': ['gini', 'entropy', 'log_loss'],\n",
    "             'n_estimators': [100, 200, 300], \n",
    "             'max_depth': [3, 4, 5]}\n",
    "\n",
    "gs_opt_classification(rf_clf, rf_params)"
   ]
  },
  {
   "cell_type": "markdown",
   "metadata": {},
   "source": [
    "### *Gradient Boosting*"
   ]
  },
  {
   "cell_type": "code",
   "execution_count": null,
   "metadata": {},
   "outputs": [],
   "source": [
    "gb_clf = ens.GradientBoostingClassifier(random_state=RS)\n",
    "\n",
    "get_classification_score(gb_clf)"
   ]
  },
  {
   "cell_type": "code",
   "execution_count": null,
   "metadata": {},
   "outputs": [],
   "source": [
    "gb_params = {'loss': ['log_loss', 'deviance', 'exponential'], \n",
    "             'max_depth': [3, 5, 7], \n",
    "             'learning_rate': [0.001, 0.1, 1, 3]}\n",
    "\n",
    "gs_opt_classification(gb_clf, gb_params)"
   ]
  },
  {
   "cell_type": "markdown",
   "metadata": {},
   "source": [
    "### *XGBoost*"
   ]
  },
  {
   "cell_type": "code",
   "execution_count": null,
   "metadata": {},
   "outputs": [],
   "source": [
    "xgb_clf = xgb.XGBClassifier(seed=RS, use_label_encoder=False)\n",
    "\n",
    "get_classification_score(xgb_clf)"
   ]
  },
  {
   "cell_type": "code",
   "execution_count": null,
   "metadata": {},
   "outputs": [],
   "source": [
    "xgbc_params = {'learning_rate': [0.05, 0.1, 0.3], \n",
    "               'max_depth': [3, 5, 7, 9], \n",
    "               'min_child_weight': [3, 5, 7, 9], \n",
    "               'max_delta_step': [3, 5, 7], \n",
    "               'sampling_method': ['uniform', 'gradient_based']}\n",
    "\n",
    "gs_opt_classification(xgb_clf, xgbc_params)"
   ]
  },
  {
   "cell_type": "markdown",
   "metadata": {},
   "source": [
    "### *Subtotal (classification)*"
   ]
  },
  {
   "cell_type": "markdown",
   "metadata": {},
   "source": [
    "Once again, more complex models do not lead to greater efficiency. So I will save basic model."
   ]
  },
  {
   "cell_type": "code",
   "execution_count": null,
   "metadata": {},
   "outputs": [],
   "source": [
    "show_coefs(base_clf, X=X)"
   ]
  },
  {
   "cell_type": "code",
   "execution_count": null,
   "metadata": {},
   "outputs": [],
   "source": [
    "dump_model(base_clf, clf_dir, 'clf_model')"
   ]
  },
  {
   "cell_type": "markdown",
   "metadata": {},
   "source": [
    "---"
   ]
  },
  {
   "cell_type": "markdown",
   "metadata": {},
   "source": [
    "## Clustering task & Multiclass classification "
   ]
  },
  {
   "cell_type": "code",
   "execution_count": null,
   "metadata": {},
   "outputs": [],
   "source": [
    "X, y = X_y_split('Frequency of Purchases')\n",
    "\n",
    "X.head()"
   ]
  },
  {
   "cell_type": "markdown",
   "metadata": {},
   "source": [
    "### *Encoding*"
   ]
  },
  {
   "cell_type": "code",
   "execution_count": null,
   "metadata": {},
   "outputs": [],
   "source": [
    "encoder = pp.OrdinalEncoder()\n",
    "X = transform_X(X, encoder)\n",
    "\n",
    "X.head()"
   ]
  },
  {
   "cell_type": "code",
   "execution_count": null,
   "metadata": {},
   "outputs": [],
   "source": [
    "dump_model(encoder, mcc_dir, 'mcc_encoder') "
   ]
  },
  {
   "cell_type": "code",
   "execution_count": null,
   "metadata": {},
   "outputs": [],
   "source": [
    "lab_enc = pp.LabelEncoder()\n",
    "y = lab_enc.fit_transform(y)\n",
    "\n",
    "y"
   ]
  },
  {
   "cell_type": "code",
   "execution_count": null,
   "metadata": {},
   "outputs": [],
   "source": [
    "dump_model(lab_enc, mcc_dir, 'y_encoder') "
   ]
  },
  {
   "cell_type": "markdown",
   "metadata": {},
   "source": [
    "### *Scaling*"
   ]
  },
  {
   "cell_type": "code",
   "execution_count": null,
   "metadata": {},
   "outputs": [],
   "source": [
    "scaler = pp.MinMaxScaler()\n",
    "X = transform_X(X, scaler)\n",
    "\n",
    "X.head()"
   ]
  },
  {
   "cell_type": "code",
   "execution_count": null,
   "metadata": {},
   "outputs": [],
   "source": [
    "dump_model(scaler, mcc_dir, 'mcc_scaler')"
   ]
  },
  {
   "cell_type": "markdown",
   "metadata": {},
   "source": [
    "---"
   ]
  },
  {
   "cell_type": "markdown",
   "metadata": {},
   "source": [
    "### <center> **MY IDEA**\n",
    "\n",
    "The fact is that standard `sklearn.metrics` methods are not so efficient. For example, if we use `accuracy` with `OneVsRestClassifier`, it shows **too low** score on train and test samples both. "
   ]
  },
  {
   "cell_type": "code",
   "execution_count": null,
   "metadata": {},
   "outputs": [],
   "source": [
    "X_train, X_test, y_train, y_test = ms.train_test_split(X, y, \n",
    "                                                       random_state=RS, \n",
    "                                                       test_size=0.2, \n",
    "                                                       stratify=y) "
   ]
  },
  {
   "cell_type": "code",
   "execution_count": null,
   "metadata": {},
   "outputs": [],
   "source": [
    "ovr_mcc = mc.OneVsRestClassifier(base_clf, n_jobs=-1)\n",
    "\n",
    "get_classification_score(ovr_mcc)"
   ]
  },
  {
   "cell_type": "markdown",
   "metadata": {},
   "source": [
    "So I decided to create my own metric of multiclass classification: **MATCH RATE** - `match_rate_score`. \n",
    "\n",
    "The idea is very simple: \n",
    "* We make prediction and calculate diffrence between true and predicted values.\n",
    "$$\\large y_{diff} = y - \\hat y$$\n",
    "\n",
    "* If this difference equals to zero, that means the **classes matched** and the function returns 1 and 0 if not.\n",
    "$$\\large y_{match} = \n",
    "\\begin{cases}\n",
    "1 & \\text{if $y_{diff}$ = 0}\\\\ \n",
    "0 & \\text{otherwise}\n",
    "\\end{cases}$$\n",
    "\n",
    "* Eventually we get a binary array, then calculate it's **mean**, which is showing us the ratio between matched predictions and all predictions in general.\n",
    "$$\\large MRscore = \\dfrac{1}{n} \\sum_{}^{n} y_{match}$$"
   ]
  },
  {
   "cell_type": "code",
   "execution_count": null,
   "metadata": {},
   "outputs": [],
   "source": [
    "def match_rate_score(y_true, y_pred):\n",
    "    y_bin = []\n",
    "    \n",
    "    for y in y_true - y_pred:\n",
    "        if y != 0:\n",
    "            y_bin.append(1)\n",
    "        else:\n",
    "            y_bin.append(0)\n",
    "    \n",
    "    return np.mean(y_bin).round(2)\n",
    "\n",
    "\n",
    "def get_multiclass_scores(model, \n",
    "                          X_train=X_train, \n",
    "                          X_test=X_test, \n",
    "                          y_train=y_train, \n",
    "                          y_test=y_test):        \n",
    "    model.fit(X_train, y_train)\n",
    "\n",
    "    y_pred_train = model.predict(X_train)\n",
    "    y_pred_test = model.predict(X_test)\n",
    "\n",
    "    train_score = match_rate_score(y_train, y_pred_train)\n",
    "    test_score = match_rate_score(y_test, y_pred_test)\n",
    "    \n",
    "    print_scores(train_score, test_score)"
   ]
  },
  {
   "cell_type": "code",
   "execution_count": null,
   "metadata": {},
   "outputs": [],
   "source": [
    "get_multiclass_scores(ovr_mcc) "
   ]
  },
  {
   "cell_type": "markdown",
   "metadata": {},
   "source": [
    "As we see, the score is more understandable and it becomes easier to interpret. \n",
    "\n",
    "Specifically this score means that classes matched in **83-87%** of predictions."
   ]
  },
  {
   "cell_type": "markdown",
   "metadata": {},
   "source": [
    "---"
   ]
  },
  {
   "cell_type": "markdown",
   "metadata": {},
   "source": [
    "## 1. Multiclass classification task"
   ]
  },
  {
   "cell_type": "code",
   "execution_count": null,
   "metadata": {},
   "outputs": [],
   "source": [
    "ovo_mcc = mc.OneVsOneClassifier(base_clf, n_jobs=-1)\n",
    "\n",
    "get_multiclass_scores(ovo_mcc)"
   ]
  },
  {
   "cell_type": "code",
   "execution_count": null,
   "metadata": {},
   "outputs": [],
   "source": [
    "occ_mcc = mc.OutputCodeClassifier(base_clf, random_state=RS, n_jobs=-1)\n",
    "\n",
    "get_multiclass_scores(occ_mcc) "
   ]
  },
  {
   "cell_type": "markdown",
   "metadata": {},
   "source": [
    "---"
   ]
  },
  {
   "cell_type": "markdown",
   "metadata": {},
   "source": [
    "## 2. Clustering task"
   ]
  },
  {
   "cell_type": "code",
   "execution_count": null,
   "metadata": {},
   "outputs": [],
   "source": [
    "def get_multiclass_clustering_scores(model, X=X, y=y, c_param='n_clusters'):        \n",
    "    model.set_params(**{c_param: 7})\n",
    "    \n",
    "    y_pred = model.fit_predict(X, y)\n",
    "    score = match_rate_score(y, y_pred)\n",
    "    \n",
    "    print(f'Multiclass accuracy score: {score}')"
   ]
  },
  {
   "cell_type": "markdown",
   "metadata": {},
   "source": [
    "### *KMeans (baseline)*"
   ]
  },
  {
   "cell_type": "code",
   "execution_count": null,
   "metadata": {},
   "outputs": [],
   "source": [
    "base_mcc = c.KMeans(random_state=RS)\n",
    "\n",
    "get_multiclass_clustering_scores(base_mcc)"
   ]
  },
  {
   "cell_type": "markdown",
   "metadata": {},
   "source": [
    "### *Spectral clustering*"
   ]
  },
  {
   "cell_type": "code",
   "execution_count": null,
   "metadata": {},
   "outputs": [],
   "source": [
    "sc_mcc = c.SpectralClustering(affinity='nearest_neighbors', random_state=RS, n_jobs=-1)\n",
    "\n",
    "get_multiclass_clustering_scores(sc_mcc)"
   ]
  },
  {
   "cell_type": "code",
   "execution_count": null,
   "metadata": {},
   "outputs": [],
   "source": [
    "assign_labels = ['kmeans', 'discretize', 'cluster_qr']\n",
    "\n",
    "for label in assign_labels:\n",
    "    sc_mcc.set_params(**{'assign_labels': label})\n",
    "    get_multiclass_clustering_scores(sc_mcc)"
   ]
  },
  {
   "cell_type": "code",
   "execution_count": null,
   "metadata": {},
   "outputs": [],
   "source": [
    "sc_mcc.set_params(**{'assign_labels': 'kmeans'})\n",
    "\n",
    "degrees = [1, 2, 3, 4, 10]\n",
    "\n",
    "for d in degrees:\n",
    "    sc_mcc.set_params(**{'degree': d})\n",
    "    get_multiclass_clustering_scores(sc_mcc)"
   ]
  },
  {
   "cell_type": "markdown",
   "metadata": {},
   "source": [
    "### *Agglomerative clustering* "
   ]
  },
  {
   "cell_type": "code",
   "execution_count": null,
   "metadata": {},
   "outputs": [],
   "source": [
    "ac_mcc = c.AgglomerativeClustering()\n",
    "\n",
    "get_multiclass_clustering_scores(ac_mcc)"
   ]
  },
  {
   "cell_type": "code",
   "execution_count": null,
   "metadata": {},
   "outputs": [],
   "source": [
    "linkages = ['ward', 'complete', 'average', 'single'] \n",
    "\n",
    "for l in linkages:\n",
    "    ac_mcc.set_params(**{'linkage': l})\n",
    "    get_multiclass_clustering_scores(ac_mcc)"
   ]
  },
  {
   "cell_type": "markdown",
   "metadata": {},
   "source": [
    "### *Gaussian mixture*"
   ]
  },
  {
   "cell_type": "code",
   "execution_count": null,
   "metadata": {},
   "outputs": [],
   "source": [
    "gm_mcc = mx.GaussianMixture(max_iter=1000, random_state=RS)\n",
    "\n",
    "get_multiclass_clustering_scores(gm_mcc, c_param='n_components')"
   ]
  },
  {
   "cell_type": "markdown",
   "metadata": {},
   "source": [
    "### *BIRCH*"
   ]
  },
  {
   "cell_type": "code",
   "execution_count": null,
   "metadata": {},
   "outputs": [],
   "source": [
    "birch_mcc = c.Birch()\n",
    "\n",
    "get_multiclass_clustering_scores(birch_mcc)"
   ]
  },
  {
   "cell_type": "markdown",
   "metadata": {},
   "source": [
    "### *Subtotal (clustering & multiclass)*"
   ]
  },
  {
   "cell_type": "markdown",
   "metadata": {},
   "source": [
    "I think that we can solve multiclass classification tasks not only with classic `sklearn.multiclass` methods, but with clustering methods too, with the same efficiency."
   ]
  },
  {
   "cell_type": "code",
   "execution_count": null,
   "metadata": {},
   "outputs": [],
   "source": [
    "est_coefs = []\n",
    "\n",
    "for est in ovr_mcc.estimators_:\n",
    "    est_coefs.append(est.coef_.tolist()[0])\n",
    "    \n",
    "pd.DataFrame(est_coefs, columns=X.columns)"
   ]
  },
  {
   "cell_type": "code",
   "execution_count": null,
   "metadata": {},
   "outputs": [],
   "source": [
    "dump_model(ovr_mcc, mcc_dir, 'mcc_model') "
   ]
  },
  {
   "cell_type": "markdown",
   "metadata": {},
   "source": [
    "---"
   ]
  },
  {
   "cell_type": "markdown",
   "metadata": {},
   "source": [
    "# <center> *Total*"
   ]
  },
  {
   "cell_type": "markdown",
   "metadata": {},
   "source": [
    "At the end of work I can say that I have made **Exploratory Data Analysis**. The dataset was pretty small and easy to analyse. Including I applied **Bayesian theorem** to find out probabilities of belonging customers to each frequency of purchases.\n",
    "\n",
    "I have solved 3 different **Machine Learning** tasks (the last one contains 2 subtasks) and created 3 different models."
   ]
  }
 ],
 "metadata": {
  "kernelspec": {
   "display_name": "Python 3",
   "language": "python",
   "name": "python3"
  },
  "language_info": {
   "codemirror_mode": {
    "name": "ipython",
    "version": 3
   },
   "file_extension": ".py",
   "mimetype": "text/x-python",
   "name": "python",
   "nbconvert_exporter": "python",
   "pygments_lexer": "ipython3",
   "version": "3.11.0"
  }
 },
 "nbformat": 4,
 "nbformat_minor": 2
}
